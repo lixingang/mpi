{
 "cells": [
  {
   "cell_type": "code",
   "execution_count": 1,
   "metadata": {},
   "outputs": [
    {
     "name": "stdout",
     "output_type": "stream",
     "text": [
      "                                         time  seed     r2    rmse   mape\n",
      "4  /home/lxg/data/mpi/Logs/mpi/Apr12_21-33-45    10  0.583  0.0189  3.316\n",
      "6  /home/lxg/data/mpi/Logs/mpi/Apr12_21-33-46    20  0.655  0.0165  1.780\n",
      "1  /home/lxg/data/mpi/Logs/mpi/Apr12_21-33-47    30  0.392  0.0249  1.962\n",
      "5  /home/lxg/data/mpi/Logs/mpi/Apr12_21-33-48    40  0.296  0.0355  2.210\n",
      "9  /home/lxg/data/mpi/Logs/mpi/Apr12_21-33-49    50  0.617  0.0222  0.827\n",
      "2  /home/lxg/data/mpi/Logs/mpi/Apr12_21-41-50    60  0.450  0.0252  0.876\n",
      "7  /home/lxg/data/mpi/Logs/mpi/Apr12_21-41-51    70  0.554  0.0250  0.771\n",
      "3  /home/lxg/data/mpi/Logs/mpi/Apr12_21-41-52    80  0.466  0.0254  2.255\n",
      "8  /home/lxg/data/mpi/Logs/mpi/Apr12_21-41-53    90  0.575  0.0232  1.850\n",
      "0  /home/lxg/data/mpi/Logs/mpi/Apr12_21-41-54   100  0.452  0.0279  1.950\n",
      "average_r2: 0.504\n",
      "average_rmse: 0.024\n",
      "average_mape: 1.780\n"
     ]
    }
   ],
   "source": [
    "# from ast import Str\n",
    "import os,argparse\n",
    "import glob\n",
    "import pandas as pd\n",
    "import yaml\n",
    "import re\n",
    "class ParseYAML(dict):\n",
    "    \"\"\"\n",
    "    Makes a  dictionary behave like an object,with attribute-style access.\n",
    "    \"\"\"\n",
    "    def __init__(self, yaml_config):\n",
    "        config = None\n",
    "        with open(yaml_config, 'r') as f:\n",
    "            config = yaml.load(f,Loader=yaml.Loader)\n",
    "        for key in config:\n",
    "            setattr(self, key, config[key])\n",
    "            \n",
    "    def __getattr__(self,name):\n",
    "        try:\n",
    "            return self[name]\n",
    "        except:\n",
    "            raise AttributeError(name)\n",
    "    def __setattr__(self,name,value):\n",
    "        self[name]=value\n",
    "\n",
    "def parse_log(path):\n",
    "    f = open(path,'r')\n",
    "    lines  = f.readlines()\n",
    "    line = lines[-1].strip()\n",
    "    pattern = re.compile(r'(?<=r2.)\\d+\\.?\\d*')\n",
    "    r2 = pattern.findall(line)[0]\n",
    "    pattern = re.compile(r'(?<=rmse.)\\d+\\.?\\d*')\n",
    "    rmse = pattern.findall(line)[0]\n",
    "    pattern = re.compile(r'(?<=mape.)\\d+\\.?\\d*')\n",
    "    mape = pattern.findall(line)[0]\n",
    "    f.close()\n",
    "    return float(r2),float(rmse), float(mape)\n",
    "\n",
    "# parser = argparse.ArgumentParser(description='Process some integers.')\n",
    "# parser.add_argument(f'--model_name', default=\"mpi\",type=str)\n",
    "# args = parser.parse_args()\n",
    "log_dir = \"/home/lxg/data/mpi/Logs\"\n",
    "model_name = \"mpi\"\n",
    "\n",
    "assert model_name!=None\n",
    "items = {\"time\":[],\"seed\":[],\"r2\":[],\"rmse\":[],\"mape\":[]}\n",
    "log_list = glob.glob(f\"{log_dir}/{model_name}/*\")\n",
    "for log in log_list:\n",
    "    cfg = ParseYAML(os.path.join(log,\"config.yaml\"))\n",
    "    r2,rmse,mape = parse_log(os.path.join(log,\"run.log\"))\n",
    "    items[\"time\"].append(log)\n",
    "    items[\"seed\"].append(cfg.seed)\n",
    "    items[\"r2\"].append(r2)\n",
    "    items[\"rmse\"].append(rmse)\n",
    "    items[\"mape\"].append(mape)\n",
    "# print(items)\n",
    "df = pd.DataFrame(items,index=None)\n",
    "df.sort_values(by=\"seed\",inplace=True)\n",
    "\n",
    "print(df)\n",
    "print(f\"average_r2: {df['r2'].mean():.3f}\", )\n",
    "print(f\"average_rmse: {df['rmse'].mean():.3f}\", )\n",
    "print(f\"average_mape: {df['mape'].mean():.3f}\", )\n",
    "# df.to_csv(f\"records_{model_name}.csv\",index=False)\n"
   ]
  },
  {
   "cell_type": "code",
   "execution_count": 3,
   "metadata": {},
   "outputs": [
    {
     "name": "stderr",
     "output_type": "stream",
     "text": [
      "usage: ipykernel_launcher.py [-h] [--model_name MODEL_NAME]\n",
      "ipykernel_launcher.py: error: unrecognized arguments: --ip=127.0.0.1 --stdin=9078 --control=9076 --hb=9075 --Session.signature_scheme=\"hmac-sha256\" --Session.key=b\"13fec8cd-2fc2-4c0e-8ac0-500bd94a0b3e\" --shell=9077 --transport=\"tcp\" --iopub=9079 --f=/tmp/tmp-20651bncklRs1kZlw.json\n"
     ]
    },
    {
     "ename": "SystemExit",
     "evalue": "2",
     "output_type": "error",
     "traceback": [
      "An exception has occurred, use %tb to see the full traceback.\n",
      "\u001b[0;31mSystemExit\u001b[0m\u001b[0;31m:\u001b[0m 2\n"
     ]
    },
    {
     "name": "stderr",
     "output_type": "stream",
     "text": [
      "/home/lxg/.pyenv/versions/3.8.2/lib/python3.8/site-packages/IPython/core/interactiveshell.py:3377: UserWarning: To exit: use 'exit', 'quit', or Ctrl-D.\n",
      "  warn(\"To exit: use 'exit', 'quit', or Ctrl-D.\", stacklevel=1)\n"
     ]
    }
   ],
   "source": []
  },
  {
   "cell_type": "code",
   "execution_count": null,
   "metadata": {},
   "outputs": [],
   "source": []
  }
 ],
 "metadata": {
  "interpreter": {
   "hash": "520283b5d59817a6bac049267f5725a19653c303e3bb488f8878d8c7f7cea81c"
  },
  "kernelspec": {
   "display_name": "Python 3.8.2 64-bit ('3.8.2')",
   "language": "python",
   "name": "python3"
  },
  "language_info": {
   "codemirror_mode": {
    "name": "ipython",
    "version": 3
   },
   "file_extension": ".py",
   "mimetype": "text/x-python",
   "name": "python",
   "nbconvert_exporter": "python",
   "pygments_lexer": "ipython3",
   "version": "3.8.2"
  },
  "orig_nbformat": 4
 },
 "nbformat": 4,
 "nbformat_minor": 2
}
