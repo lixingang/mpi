{
 "cells": [
  {
   "cell_type": "code",
   "execution_count": null,
   "metadata": {},
   "outputs": [],
   "source": [
    "y = [2,3,1,4,5]\n",
    "res = sorted(range(len(y)), key=lambda k: y[k])"
   ]
  },
  {
   "cell_type": "code",
   "execution_count": null,
   "metadata": {},
   "outputs": [],
   "source": [
    "import numpy as np\n",
    "import matplotlib.pyplot as plt\n",
    "y = np.array([0.01,0.02,0.1,0.4,0.57,0.8,0.1,0.1,0.15,0.22,0.1,0.02,0.1,0.41,0.52,0.83,0.15,0.1,0.15,0.22])\n",
    "y_hat = np.array([0.11,0.22,0.33,0.78,0.23,0.1,0.11,0.1,0.2,0.2,0.1,0.1,0.15,0.22,0.1,0.02,0.1,0.41,0.15,0.22])\n",
    "diff = np.abs(y-y_hat)\n",
    "\n",
    "def get_hist(y, min_value=0.0, max_value=1., step=0.1 ):\n",
    "    sorted_id = sorted(range(len(y)), key=lambda k: y[k])\n",
    "    y = np.array([y[i] for i in sorted_id])\n",
    "    hist_index = {}\n",
    "    iter_list = np.arange(min_value, max_value, step)\n",
    "    for i in iter_list:\n",
    "        start = i\n",
    "        end = i+step\n",
    "        hist_index[round(end,2)] = np.where((y>start)&(y<=end))[0]\n",
    "    return hist_index, iter_list\n",
    "\n",
    "hist_index, iter_list = get_hist(y,0.,1.,0.1)\n",
    "hist_count = [len(hist_index[k]) for k in hist_index.keys()]\n",
    "hist_error = {}\n",
    "for key in hist_index.keys():\n",
    "    hist_error[key] = np.average(diff[hist_index[key]]) if len(hist_index[key])!=0 else 0\n",
    "\n",
    "fig = plt.figure()\n",
    "plt.bar(iter_list, hist_count, width=0.05)\n",
    "fig = plt.figure()\n",
    "plt.bar(iter_list, hist_error, width=0.05)\n",
    "\n"
   ]
  },
  {
   "cell_type": "code",
   "execution_count": null,
   "metadata": {},
   "outputs": [],
   "source": []
  }
 ],
 "metadata": {
  "interpreter": {
   "hash": "520283b5d59817a6bac049267f5725a19653c303e3bb488f8878d8c7f7cea81c"
  },
  "kernelspec": {
   "display_name": "Python 3.8.2 64-bit ('3.8.2')",
   "language": "python",
   "name": "python3"
  },
  "language_info": {
   "codemirror_mode": {
    "name": "ipython",
    "version": 3
   },
   "file_extension": ".py",
   "mimetype": "text/x-python",
   "name": "python",
   "nbconvert_exporter": "python",
   "pygments_lexer": "ipython3",
   "version": "3.8.2"
  },
  "orig_nbformat": 4
 },
 "nbformat": 4,
 "nbformat_minor": 2
}
