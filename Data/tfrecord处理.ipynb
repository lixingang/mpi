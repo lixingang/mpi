{
 "cells": [
  {
   "cell_type": "code",
   "execution_count": 3,
   "metadata": {},
   "outputs": [
    {
     "name": "stdout",
     "output_type": "stream",
     "text": [
      "ok\n"
     ]
    }
   ],
   "source": [
    "import tfrecord as tfr\n",
    "import h5py\n",
    "import os,sys\n",
    "import numpy as np\n",
    "import glob\n",
    "import pandas as pd\n",
    "from tqdm import tqdm\n",
    "import shutil\n",
    "def _parse_description(csv_path):\n",
    "        label_type = pd.read_csv(csv_path, usecols=[\"label\",\"type\"])\n",
    "        description = {}\n",
    "        for _, row in label_type.iterrows():\n",
    "            description[str(row['label']).strip()] = str(row['type']).strip()\n",
    "        return description\n",
    "tfr_description = _parse_description(\"label_type.csv\")\n",
    "save_dir = \"raw_data_removed\"\n",
    "os.makedirs(save_dir, exist_ok=True)\n",
    "for path in glob.glob(\"raw_data/*.tfrecord\"):\n",
    "    loader = tfr.tfrecord_loader(path, None, tfr_description  )\n",
    "    for record in loader:\n",
    "        # print(record.keys())\n",
    "        if record['MPI3_fixed']>0.00001:\n",
    "            shutil.copy(path, os.path.join(save_dir, os.path.basename(path)))\n",
    "        \n",
    "print('ok')\n"
   ]
  },
  {
   "cell_type": "code",
   "execution_count": 4,
   "metadata": {},
   "outputs": [
    {
     "name": "stdout",
     "output_type": "stream",
     "text": [
      "总共有56个属性\n",
      "总共有434个tfrecord文件\n"
     ]
    },
    {
     "name": "stderr",
     "output_type": "stream",
     "text": [
      "434it [02:10,  3.33it/s]\n"
     ]
    },
    {
     "name": "stdout",
     "output_type": "stream",
     "text": [
      "总共有56个属性\n",
      "总共有362个tfrecord文件\n"
     ]
    },
    {
     "name": "stderr",
     "output_type": "stream",
     "text": [
      "362it [01:54,  3.17it/s]\n"
     ]
    },
    {
     "name": "stdout",
     "output_type": "stream",
     "text": [
      "总共有56个属性\n",
      "总共有350个tfrecord文件\n"
     ]
    },
    {
     "name": "stderr",
     "output_type": "stream",
     "text": [
      "350it [02:08,  2.73it/s]\n"
     ]
    },
    {
     "name": "stdout",
     "output_type": "stream",
     "text": [
      "总共有56个属性\n",
      "总共有334个tfrecord文件\n"
     ]
    },
    {
     "name": "stderr",
     "output_type": "stream",
     "text": [
      "334it [02:05,  2.66it/s]\n"
     ]
    }
   ],
   "source": [
    "import tfrecord as tfr\n",
    "import h5py\n",
    "import os,sys\n",
    "import numpy as np\n",
    "import glob\n",
    "import pandas as pd\n",
    "from tqdm import tqdm\n",
    "class TfrecordWorker():\n",
    "    def __init__(self,tfr_list):\n",
    "        \n",
    "        self.info = {\"label\":[],\"typee\":[],\"shape\":[]}\n",
    "        self.data_dir = \"raw_data_removed\"\n",
    "        self.tfr_list = tfr_list\n",
    "        self.tfr_description = self._parse_description(\"label_type.csv\")\n",
    "        loader = tfr.tfrecord_loader(self.tfr_list[0], None, self.tfr_description  )\n",
    "        for record in loader:\n",
    "            for key in record.keys():\n",
    "                self.info['label'].append(key)\n",
    "                self.info['typee'].append(type(record[key][0]))\n",
    "                self.info['shape'].append(record[key].shape)\n",
    "        self.attr_size = len(self.info['label'])\n",
    "        self.data_size = len(self.tfr_list)\n",
    "        print(f\"总共有{self.attr_size}个属性\")\n",
    "        print(f\"总共有{self.data_size}个tfrecord文件\")\n",
    "\n",
    "\n",
    "    def create_h5f(self, h5path=\"./data.h5\"):\n",
    "        self.h5f = h5py.File(h5path, 'w')\n",
    "        self.dset = {}\n",
    "        for i in range(self.attr_size):\n",
    "            label = self.info[\"label\"][i]\n",
    "            typee = self.info[\"typee\"][i]\n",
    "            shape = self.info[\"shape\"][i]\n",
    "            if shape[0]==255*255:\n",
    "                self.dset[label] = self.h5f.create_dataset(label,\n",
    "                                shape=[self.data_size, 255,255],\n",
    "                                compression=None,\n",
    "                                dtype=typee)\n",
    "            else:\n",
    "                self.dset[label] = self.h5f.create_dataset(label,\n",
    "                                shape=[self.data_size, shape[0]],\n",
    "                                compression=None,\n",
    "                                dtype=typee)\n",
    "                                \n",
    "        # self.dset[\"country\"] = self.h5f.create_dataset(\"country\",\n",
    "        #                     shape=[self.data_size],\n",
    "        #                     compression=None,\n",
    "        #                     dtype=h5py.special_dtype(vlen=str))\n",
    "        \n",
    "        self.dset[\"name\"] = self.h5f.create_dataset(\"name\",\n",
    "                            shape=[self.data_size],\n",
    "                            compression=None,\n",
    "                            dtype=h5py.special_dtype(vlen=str))\n",
    "    def write_h5f(self):\n",
    "        for idx,tfr_path in tqdm(enumerate(self.tfr_list)):\n",
    "            self._write_one_item(tfr_path, idx)\n",
    "            # if idx>5:\n",
    "            #     break\n",
    "            \n",
    "        \n",
    "    def close_h5f(self):\n",
    "        self.h5f.close()\n",
    "\n",
    "    def _write_one_item(self, tfr_path, idx):\n",
    "        loader = tfr.tfrecord_loader(tfr_path, None, self.tfr_description  )\n",
    "        for record in loader:\n",
    "            # print(record['country'])\n",
    "            for key in record.keys(): \n",
    "                content = record[key]\n",
    "                if content.shape[0]==255*255:\n",
    "                    content = np.reshape(content, (255,255))\n",
    "                self.dset[key][idx] = content\n",
    "        self.dset[\"name\"][idx] = tfr_path.split(\"/\")[-1]\n",
    "\n",
    "    def _parse_description(self, csv_path):\n",
    "        label_type = pd.read_csv(csv_path, usecols=[\"label\",\"type\"])\n",
    "        description = {}\n",
    "        for _, row in label_type.iterrows():\n",
    "            description[str(row['label']).strip()] = str(row['type']).strip()\n",
    "        return description\n",
    "\n",
    "\n",
    "\n",
    "def start(files, savename):\n",
    "    worker = TfrecordWorker(files)\n",
    "    worker.create_h5f(savename)\n",
    "    worker.write_h5f()\n",
    "    worker.close_h5f()\n",
    "\n",
    "# start(glob.glob(\"raw_data/*.tfrecord\"),\"data.h5\")\n",
    "start(glob.glob(\"raw_data_removed/*fold0*.tfrecord\"),\"subsetfold0.h5\")\n",
    "start(glob.glob(\"raw_data_removed/*fold1*.tfrecord\"),\"subsetfold1.h5\")\n",
    "start(glob.glob(\"raw_data_removed/*fold2*.tfrecord\"),\"subsetfold2.h5\")\n",
    "start(glob.glob(\"raw_data_removed/*fold3*.tfrecord\"),\"subsetfold3.h5\")\n",
    "# start(glob.glob(\"raw_data/*fold0*.tfrecord\"),\"test.h5\")"
   ]
  },
  {
   "cell_type": "code",
   "execution_count": 1,
   "metadata": {},
   "outputs": [
    {
     "name": "stdout",
     "output_type": "stream",
     "text": [
      "--iterms:  57 <KeysViewHDF5 ['A', 'AOD047', 'AOD055', 'BLUE', 'DHSCLUST1', 'EVI', 'GREEN', 'H', 'Households_num', 'Individual_num', 'LAT', 'LON', 'Living Standards', 'MPI3', 'MPI3_fixed', 'MPI_Easy4', 'MPI_Easy4_fixed', 'NDVI', 'NIGHTLIGHTS', 'NIR', 'Number of Households2', 'RED', 'SWIR1', 'SWIR2', 'TEMP1', 'age_struct_child', 'age_struct_middle', 'age_struct_old', 'age_struct_young', 'area', 'aspect', 'building_area', 'burnedCount', 'conflict_num', 'country', 'death_num', 'education', 'elevation', 'famale', 'health', 'lat', 'lon', 'male', 'name', 'osm', 'place_num', 'poi_num', 'pr', 'pr_sum', 'road_length', 'slope', 'tmm_sum', 'tmmn', 'tmmx', 'viirs_v2', 'water', 'year']>\n",
      "A (448, 1)\n",
      "AOD047 (448, 255, 255)\n",
      "AOD055 (448, 255, 255)\n",
      "BLUE (448, 255, 255)\n",
      "DHSCLUST1 (448, 1)\n",
      "EVI (448, 255, 255)\n",
      "GREEN (448, 255, 255)\n",
      "H (448, 1)\n",
      "Households_num (448, 1)\n",
      "Individual_num (448, 1)\n",
      "LAT (448, 255, 255)\n",
      "LON (448, 255, 255)\n",
      "Living Standards (448, 1)\n",
      "MPI3 (448, 1)\n",
      "MPI3_fixed (448, 1)\n",
      "MPI_Easy4 (448, 1)\n",
      "MPI_Easy4_fixed (448, 1)\n",
      "NDVI (448, 255, 255)\n",
      "NIGHTLIGHTS (448, 255, 255)\n",
      "NIR (448, 255, 255)\n",
      "Number of Households2 (448, 1)\n",
      "RED (448, 255, 255)\n",
      "SWIR1 (448, 255, 255)\n",
      "SWIR2 (448, 255, 255)\n",
      "TEMP1 (448, 255, 255)\n",
      "age_struct_child (448, 255, 255)\n",
      "age_struct_middle (448, 255, 255)\n",
      "age_struct_old (448, 255, 255)\n",
      "age_struct_young (448, 255, 255)\n",
      "area (448, 1)\n",
      "aspect (448, 255, 255)\n",
      "building_area (448, 1)\n",
      "burnedCount (448, 1)\n",
      "conflict_num (448, 1)\n",
      "country (448, 7)\n",
      "death_num (448, 1)\n",
      "education (448, 1)\n",
      "elevation (448, 255, 255)\n",
      "famale (448, 255, 255)\n",
      "health (448, 1)\n",
      "lat (448, 1)\n",
      "lon (448, 1)\n",
      "male (448, 255, 255)\n",
      "name (448,)\n",
      "osm (448, 255, 255)\n",
      "place_num (448, 1)\n",
      "poi_num (448, 1)\n",
      "pr (448, 255, 255)\n",
      "pr_sum (448, 1)\n",
      "road_length (448, 1)\n",
      "slope (448, 255, 255)\n",
      "tmm_sum (448, 1)\n",
      "tmmn (448, 255, 255)\n",
      "tmmx (448, 255, 255)\n",
      "viirs_v2 (448, 255, 255)\n",
      "water (448, 1)\n",
      "year (448, 1)\n"
     ]
    }
   ],
   "source": [
    "import h5py\n",
    "f = h5py.File('fold0.h5', 'r')\n",
    "print('--iterms: ', len(f.keys()), f.keys())\n",
    "for k in f.keys():\n",
    "    print(k, f[k].shape)"
   ]
  },
  {
   "cell_type": "code",
   "execution_count": null,
   "metadata": {},
   "outputs": [],
   "source": []
  }
 ],
 "metadata": {
  "interpreter": {
   "hash": "2f394aca7ca06fed1e6064aef884364492d7cdda3614a461e02e6407fc40ba69"
  },
  "kernelspec": {
   "display_name": "Python 3.9.5 ('base')",
   "language": "python",
   "name": "python3"
  },
  "language_info": {
   "codemirror_mode": {
    "name": "ipython",
    "version": 3
   },
   "file_extension": ".py",
   "mimetype": "text/x-python",
   "name": "python",
   "nbconvert_exporter": "python",
   "pygments_lexer": "ipython3",
   "version": "3.9.5"
  },
  "orig_nbformat": 4
 },
 "nbformat": 4,
 "nbformat_minor": 2
}
